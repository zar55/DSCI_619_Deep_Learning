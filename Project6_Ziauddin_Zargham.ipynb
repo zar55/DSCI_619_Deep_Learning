{
  "nbformat": 4,
  "nbformat_minor": 0,
  "metadata": {
    "colab": {
      "provenance": []
    },
    "kernelspec": {
      "name": "python3",
      "display_name": "Python 3"
    },
    "language_info": {
      "name": "python"
    }
  },
  "cells": [
    {
      "cell_type": "markdown",
      "source": [
        "## Load, Clean, Prepare the Data"
      ],
      "metadata": {
        "id": "QRdfKSUz5T9X"
      }
    },
    {
      "cell_type": "code",
      "execution_count": 1,
      "metadata": {
        "id": "kcpx7mWT4fZV"
      },
      "outputs": [],
      "source": [
        "import os\n",
        "import random\n",
        "import numpy as np\n",
        "import tensorflow as tf\n",
        "from tensorflow import keras"
      ]
    },
    {
      "cell_type": "code",
      "source": [
        "# Fix the Seeds\n",
        "SEED = 101\n",
        "os.environ['PYTHONHASHSEED'] = str(SEED)\n",
        "os.environ['TF_CUDNN_DETERMINISTIC'] = '1'\n",
        "random.seed(SEED)\n",
        "np.random.seed(SEED)\n",
        "tf.random.set_seed(SEED)"
      ],
      "metadata": {
        "id": "JXK8alUn7s-V"
      },
      "execution_count": 2,
      "outputs": []
    },
    {
      "cell_type": "code",
      "source": [
        "import pandas as pd\n",
        "\n",
        "# Set the Batch Size\n",
        "batch_size = 64\n",
        "\n",
        "# Set the Epochs #\n",
        "epochs = 100\n",
        "\n",
        "# Latent Dimensionality of the Encoding Space\n",
        "latent_dim = 256\n",
        "\n",
        "# # of Samples to Use\n",
        "num_samples = 10000\n",
        "\n",
        "# Data File\n",
        "text = \"/content/deu-eng.txt\""
      ],
      "metadata": {
        "id": "0G4jyyy67xGP"
      },
      "execution_count": 3,
      "outputs": []
    },
    {
      "cell_type": "code",
      "source": [
        "# Obtain the Features (Input) & Labels (Target)\n",
        "input_texts = []\n",
        "target_texts = []\n",
        "\n",
        "# Unique Characters in the Inputs & Targets\n",
        "input_characters = set()\n",
        "target_characters = set()\n",
        "\n",
        "# Load the Data into Memory\n",
        "with open(text, \"r\", encoding = \"utf-8\") as f:\n",
        "  lines = f.read().split(\"\\n\")\n",
        "\n",
        "# Process Line by Line\n",
        "for line in lines[: min(num_samples, len(lines) - 1)]:\n",
        "  # Data Format English + TAB + The Other Language + TAB + Attribution\n",
        "  # It Returns: English, The Other Language, & Attribution, Which is Discarded\n",
        "  input_text, target_text, _ = line.split(\"\\t\")\n",
        "\n",
        "  # We Use \"TAB\" as the \"Start Sequence\" Character\n",
        "  # For the Targets, & \"\\n\" as \"End Sequence\" Character\n",
        "  target_text = \"\\t\" + target_text + \"\\n\"\n",
        "  input_texts.append(input_text)\n",
        "  target_texts.append(target_text)\n",
        "\n",
        "  #Get the Unique Char from the Input Characters\n",
        "  for char in input_text:\n",
        "    if char not in input_characters:\n",
        "      input_characters.add(char)\n",
        "\n",
        "  #Get the Unique Char from the Target Characters\n",
        "  for char in target_text:\n",
        "    if char not in target_characters:\n",
        "      target_characters.add(char)"
      ],
      "metadata": {
        "id": "S-89h6bSABtb"
      },
      "execution_count": 4,
      "outputs": []
    },
    {
      "cell_type": "markdown",
      "source": [
        "## Develop Encoder & Decoder for the Model"
      ],
      "metadata": {
        "id": "MnUwgWvmG_dg"
      }
    },
    {
      "cell_type": "code",
      "source": [
        "input_characters = sorted(list(input_characters))\n",
        "target_characters = sorted(list(target_characters))\n",
        "\n",
        "num_encoder_tokens = len(input_characters)\n",
        "num_decoder_tokens = len(target_characters)\n",
        "\n",
        "max_encoder_seq_length = max([len(txt) for txt in input_texts])\n",
        "max_decoder_seq_length = max([len(txt) for txt in target_texts])\n",
        "\n",
        "print(f\"# of Samples: {len(input_texts)}\")\n",
        "print(f\"# of Unique Input Tokens: {num_encoder_tokens}\")\n",
        "print(f\"# of Unique Output Tokens: {num_decoder_tokens}\")\n",
        "print(f\"Max Sequence Length for Inputs: {max_encoder_seq_length}\")\n",
        "print(f\"Max Sequence Length for Outputs: {max_decoder_seq_length}\")"
      ],
      "metadata": {
        "colab": {
          "base_uri": "https://localhost:8080/"
        },
        "id": "X3GnYuEn9z8T",
        "outputId": "e18e26a6-68f9-40c8-8578-3c68cdda0a77"
      },
      "execution_count": 5,
      "outputs": [
        {
          "output_type": "stream",
          "name": "stdout",
          "text": [
            "# of Samples: 10000\n",
            "# of Unique Input Tokens: 71\n",
            "# of Unique Output Tokens: 85\n",
            "Max Sequence Length for Inputs: 15\n",
            "Max Sequence Length for Outputs: 45\n"
          ]
        }
      ]
    },
    {
      "cell_type": "code",
      "source": [
        "input_token_index = dict([(char, i) for i, char in enumerate(input_characters)])\n",
        "target_token_index = dict([(char, i) for i, char in enumerate(target_characters)])"
      ],
      "metadata": {
        "id": "xr7nQ1mWJyuM"
      },
      "execution_count": 6,
      "outputs": []
    },
    {
      "cell_type": "code",
      "source": [
        "input_token_index"
      ],
      "metadata": {
        "colab": {
          "base_uri": "https://localhost:8080/"
        },
        "id": "7wnhSR8tKHJV",
        "outputId": "44d53db5-270c-4af0-87a2-bd5db5e610e9"
      },
      "execution_count": 7,
      "outputs": [
        {
          "output_type": "execute_result",
          "data": {
            "text/plain": [
              "{' ': 0,\n",
              " '!': 1,\n",
              " '\"': 2,\n",
              " '$': 3,\n",
              " '%': 4,\n",
              " \"'\": 5,\n",
              " ',': 6,\n",
              " '-': 7,\n",
              " '.': 8,\n",
              " '0': 9,\n",
              " '1': 10,\n",
              " '2': 11,\n",
              " '3': 12,\n",
              " '4': 13,\n",
              " '5': 14,\n",
              " '6': 15,\n",
              " '7': 16,\n",
              " '8': 17,\n",
              " '9': 18,\n",
              " ':': 19,\n",
              " '?': 20,\n",
              " 'A': 21,\n",
              " 'B': 22,\n",
              " 'C': 23,\n",
              " 'D': 24,\n",
              " 'E': 25,\n",
              " 'F': 26,\n",
              " 'G': 27,\n",
              " 'H': 28,\n",
              " 'I': 29,\n",
              " 'J': 30,\n",
              " 'K': 31,\n",
              " 'L': 32,\n",
              " 'M': 33,\n",
              " 'N': 34,\n",
              " 'O': 35,\n",
              " 'P': 36,\n",
              " 'Q': 37,\n",
              " 'R': 38,\n",
              " 'S': 39,\n",
              " 'T': 40,\n",
              " 'U': 41,\n",
              " 'V': 42,\n",
              " 'W': 43,\n",
              " 'Y': 44,\n",
              " 'a': 45,\n",
              " 'b': 46,\n",
              " 'c': 47,\n",
              " 'd': 48,\n",
              " 'e': 49,\n",
              " 'f': 50,\n",
              " 'g': 51,\n",
              " 'h': 52,\n",
              " 'i': 53,\n",
              " 'j': 54,\n",
              " 'k': 55,\n",
              " 'l': 56,\n",
              " 'm': 57,\n",
              " 'n': 58,\n",
              " 'o': 59,\n",
              " 'p': 60,\n",
              " 'q': 61,\n",
              " 'r': 62,\n",
              " 's': 63,\n",
              " 't': 64,\n",
              " 'u': 65,\n",
              " 'v': 66,\n",
              " 'w': 67,\n",
              " 'x': 68,\n",
              " 'y': 69,\n",
              " 'z': 70}"
            ]
          },
          "metadata": {},
          "execution_count": 7
        }
      ]
    },
    {
      "cell_type": "code",
      "source": [
        "target_token_index"
      ],
      "metadata": {
        "colab": {
          "base_uri": "https://localhost:8080/"
        },
        "id": "sKj2vm5tKQCZ",
        "outputId": "795a685d-7b1b-4af7-b0bd-48db0b54302b"
      },
      "execution_count": 8,
      "outputs": [
        {
          "output_type": "execute_result",
          "data": {
            "text/plain": [
              "{'\\t': 0,\n",
              " '\\n': 1,\n",
              " ' ': 2,\n",
              " '!': 3,\n",
              " '$': 4,\n",
              " '%': 5,\n",
              " \"'\": 6,\n",
              " ',': 7,\n",
              " '-': 8,\n",
              " '.': 9,\n",
              " '0': 10,\n",
              " '1': 11,\n",
              " '2': 12,\n",
              " '3': 13,\n",
              " '4': 14,\n",
              " '5': 15,\n",
              " '6': 16,\n",
              " '7': 17,\n",
              " '8': 18,\n",
              " '9': 19,\n",
              " ':': 20,\n",
              " '?': 21,\n",
              " 'A': 22,\n",
              " 'B': 23,\n",
              " 'C': 24,\n",
              " 'D': 25,\n",
              " 'E': 26,\n",
              " 'F': 27,\n",
              " 'G': 28,\n",
              " 'H': 29,\n",
              " 'I': 30,\n",
              " 'J': 31,\n",
              " 'K': 32,\n",
              " 'L': 33,\n",
              " 'M': 34,\n",
              " 'N': 35,\n",
              " 'O': 36,\n",
              " 'P': 37,\n",
              " 'Q': 38,\n",
              " 'R': 39,\n",
              " 'S': 40,\n",
              " 'T': 41,\n",
              " 'U': 42,\n",
              " 'V': 43,\n",
              " 'W': 44,\n",
              " 'Y': 45,\n",
              " 'Z': 46,\n",
              " 'a': 47,\n",
              " 'b': 48,\n",
              " 'c': 49,\n",
              " 'd': 50,\n",
              " 'e': 51,\n",
              " 'f': 52,\n",
              " 'g': 53,\n",
              " 'h': 54,\n",
              " 'i': 55,\n",
              " 'j': 56,\n",
              " 'k': 57,\n",
              " 'l': 58,\n",
              " 'm': 59,\n",
              " 'n': 60,\n",
              " 'o': 61,\n",
              " 'p': 62,\n",
              " 'q': 63,\n",
              " 'r': 64,\n",
              " 's': 65,\n",
              " 't': 66,\n",
              " 'u': 67,\n",
              " 'v': 68,\n",
              " 'w': 69,\n",
              " 'x': 70,\n",
              " 'y': 71,\n",
              " 'z': 72,\n",
              " '\\xa0': 73,\n",
              " 'Ä': 74,\n",
              " 'Ö': 75,\n",
              " 'Ü': 76,\n",
              " 'ß': 77,\n",
              " 'ä': 78,\n",
              " 'ö': 79,\n",
              " 'ü': 80,\n",
              " '’': 81,\n",
              " '“': 82,\n",
              " '„': 83,\n",
              " '\\u202f': 84}"
            ]
          },
          "metadata": {},
          "execution_count": 8
        }
      ]
    },
    {
      "cell_type": "code",
      "source": [
        "# Initialize the 3D Matrix\n",
        "encoder_input_data = np.zeros(\n",
        "    (len(input_texts), max_encoder_seq_length, num_encoder_tokens), dtype=\"float32\"\n",
        ")\n",
        "decoder_input_data = np.zeros(\n",
        "    (len(target_texts), max_decoder_seq_length, num_decoder_tokens), dtype=\"float32\"\n",
        ")\n",
        "decoder_target_data = np.zeros(\n",
        "    (len(target_texts), max_decoder_seq_length, num_decoder_tokens), dtype=\"float32\"\n",
        ")\n",
        "\n",
        "# Convert the Input Texts & Target Texts to Numerical Values\n",
        "for i, (input_text, target_text) in enumerate(zip(input_texts, target_texts)):\n",
        "\n",
        "    # Convert Input Texts to Numerical Values\n",
        "    for t, char in enumerate(input_text):\n",
        "      encoder_input_data[i, t, input_token_index[char]] = 1.0\n",
        "\n",
        "    # Pad the Remaining Using Space that is Mapped to 1\n",
        "    encoder_input_data[i, t + 1 :, input_token_index[\" \"]] = 1.0\n",
        "\n",
        "    # Convert Target Texts to Numerical Values\n",
        "    for t, char in enumerate(target_text):\n",
        "\n",
        "        # Decoder Input is used to Forecast Decoder Target\n",
        "        # Decoder_Target_Data is ahead of Decoder_Input_Data by One Timestep\n",
        "        decoder_input_data[i, t, target_token_index[char]] = 1.0\n",
        "        if t > 0:\n",
        "            # Decoder_Target_Data will be ahead by One Timestep & will not include the Start Character.\n",
        "            decoder_target_data[i, t - 1, target_token_index[char]] = 1.0\n",
        "\n",
        "    # Pad the Remaining using Space that is Mapped to 1\n",
        "    decoder_input_data[i, t + 1 :, target_token_index[\" \"]] = 1.0\n",
        "    decoder_target_data[i, t:, target_token_index[\" \"]] = 1.0"
      ],
      "metadata": {
        "id": "NhzqgDlQGSUt"
      },
      "execution_count": 9,
      "outputs": []
    },
    {
      "cell_type": "code",
      "source": [
        "encoder_input_data"
      ],
      "metadata": {
        "colab": {
          "base_uri": "https://localhost:8080/"
        },
        "id": "bZh0CWpoLSBC",
        "outputId": "32351b40-5d56-403c-ed89-3fad952e0301"
      },
      "execution_count": 10,
      "outputs": [
        {
          "output_type": "execute_result",
          "data": {
            "text/plain": [
              "array([[[0., 0., 0., ..., 0., 0., 0.],\n",
              "        [0., 0., 0., ..., 0., 0., 0.],\n",
              "        [0., 0., 0., ..., 0., 0., 0.],\n",
              "        ...,\n",
              "        [1., 0., 0., ..., 0., 0., 0.],\n",
              "        [1., 0., 0., ..., 0., 0., 0.],\n",
              "        [1., 0., 0., ..., 0., 0., 0.]],\n",
              "\n",
              "       [[0., 0., 0., ..., 0., 0., 0.],\n",
              "        [0., 0., 0., ..., 0., 0., 0.],\n",
              "        [0., 0., 0., ..., 0., 0., 0.],\n",
              "        ...,\n",
              "        [1., 0., 0., ..., 0., 0., 0.],\n",
              "        [1., 0., 0., ..., 0., 0., 0.],\n",
              "        [1., 0., 0., ..., 0., 0., 0.]],\n",
              "\n",
              "       [[0., 0., 0., ..., 0., 0., 0.],\n",
              "        [0., 0., 0., ..., 0., 0., 0.],\n",
              "        [0., 0., 0., ..., 0., 0., 0.],\n",
              "        ...,\n",
              "        [1., 0., 0., ..., 0., 0., 0.],\n",
              "        [1., 0., 0., ..., 0., 0., 0.],\n",
              "        [1., 0., 0., ..., 0., 0., 0.]],\n",
              "\n",
              "       ...,\n",
              "\n",
              "       [[0., 0., 0., ..., 0., 0., 0.],\n",
              "        [0., 0., 0., ..., 0., 0., 0.],\n",
              "        [0., 0., 0., ..., 0., 0., 0.],\n",
              "        ...,\n",
              "        [0., 0., 0., ..., 0., 0., 0.],\n",
              "        [0., 0., 0., ..., 0., 0., 0.],\n",
              "        [0., 0., 0., ..., 0., 0., 0.]],\n",
              "\n",
              "       [[0., 0., 0., ..., 0., 0., 0.],\n",
              "        [0., 0., 0., ..., 0., 0., 0.],\n",
              "        [0., 0., 0., ..., 0., 0., 0.],\n",
              "        ...,\n",
              "        [0., 0., 0., ..., 0., 0., 0.],\n",
              "        [0., 0., 0., ..., 0., 1., 0.],\n",
              "        [0., 0., 0., ..., 0., 0., 0.]],\n",
              "\n",
              "       [[0., 0., 0., ..., 0., 0., 0.],\n",
              "        [0., 0., 0., ..., 0., 0., 0.],\n",
              "        [0., 0., 0., ..., 0., 0., 0.],\n",
              "        ...,\n",
              "        [0., 0., 0., ..., 0., 0., 0.],\n",
              "        [0., 0., 0., ..., 0., 1., 0.],\n",
              "        [0., 0., 0., ..., 0., 0., 0.]]], dtype=float32)"
            ]
          },
          "metadata": {},
          "execution_count": 10
        }
      ]
    },
    {
      "cell_type": "code",
      "source": [
        "decoder_input_data"
      ],
      "metadata": {
        "colab": {
          "base_uri": "https://localhost:8080/"
        },
        "id": "7mLzyy37PB6H",
        "outputId": "1e1cd898-3983-4cd1-d284-68274e36bc8d"
      },
      "execution_count": 11,
      "outputs": [
        {
          "output_type": "execute_result",
          "data": {
            "text/plain": [
              "array([[[1., 0., 0., ..., 0., 0., 0.],\n",
              "        [0., 0., 0., ..., 0., 0., 0.],\n",
              "        [0., 0., 0., ..., 0., 0., 0.],\n",
              "        ...,\n",
              "        [0., 0., 1., ..., 0., 0., 0.],\n",
              "        [0., 0., 1., ..., 0., 0., 0.],\n",
              "        [0., 0., 1., ..., 0., 0., 0.]],\n",
              "\n",
              "       [[1., 0., 0., ..., 0., 0., 0.],\n",
              "        [0., 0., 0., ..., 0., 0., 0.],\n",
              "        [0., 0., 0., ..., 0., 0., 0.],\n",
              "        ...,\n",
              "        [0., 0., 1., ..., 0., 0., 0.],\n",
              "        [0., 0., 1., ..., 0., 0., 0.],\n",
              "        [0., 0., 1., ..., 0., 0., 0.]],\n",
              "\n",
              "       [[1., 0., 0., ..., 0., 0., 0.],\n",
              "        [0., 0., 0., ..., 0., 0., 0.],\n",
              "        [0., 0., 0., ..., 0., 0., 0.],\n",
              "        ...,\n",
              "        [0., 0., 1., ..., 0., 0., 0.],\n",
              "        [0., 0., 1., ..., 0., 0., 0.],\n",
              "        [0., 0., 1., ..., 0., 0., 0.]],\n",
              "\n",
              "       ...,\n",
              "\n",
              "       [[1., 0., 0., ..., 0., 0., 0.],\n",
              "        [0., 0., 0., ..., 0., 0., 0.],\n",
              "        [0., 0., 0., ..., 0., 0., 0.],\n",
              "        ...,\n",
              "        [0., 0., 1., ..., 0., 0., 0.],\n",
              "        [0., 0., 1., ..., 0., 0., 0.],\n",
              "        [0., 0., 1., ..., 0., 0., 0.]],\n",
              "\n",
              "       [[1., 0., 0., ..., 0., 0., 0.],\n",
              "        [0., 0., 0., ..., 0., 0., 0.],\n",
              "        [0., 0., 0., ..., 0., 0., 0.],\n",
              "        ...,\n",
              "        [0., 0., 1., ..., 0., 0., 0.],\n",
              "        [0., 0., 1., ..., 0., 0., 0.],\n",
              "        [0., 0., 1., ..., 0., 0., 0.]],\n",
              "\n",
              "       [[1., 0., 0., ..., 0., 0., 0.],\n",
              "        [0., 0., 0., ..., 0., 0., 0.],\n",
              "        [0., 0., 0., ..., 0., 0., 0.],\n",
              "        ...,\n",
              "        [0., 0., 1., ..., 0., 0., 0.],\n",
              "        [0., 0., 1., ..., 0., 0., 0.],\n",
              "        [0., 0., 1., ..., 0., 0., 0.]]], dtype=float32)"
            ]
          },
          "metadata": {},
          "execution_count": 11
        }
      ]
    },
    {
      "cell_type": "code",
      "source": [
        "decoder_target_data"
      ],
      "metadata": {
        "colab": {
          "base_uri": "https://localhost:8080/"
        },
        "id": "TS1-bvTOPKDq",
        "outputId": "c893ee9f-cd85-43dd-fb96-a6bbc8f60a42"
      },
      "execution_count": 12,
      "outputs": [
        {
          "output_type": "execute_result",
          "data": {
            "text/plain": [
              "array([[[0., 0., 0., ..., 0., 0., 0.],\n",
              "        [0., 0., 0., ..., 0., 0., 0.],\n",
              "        [0., 0., 0., ..., 0., 0., 0.],\n",
              "        ...,\n",
              "        [0., 0., 1., ..., 0., 0., 0.],\n",
              "        [0., 0., 1., ..., 0., 0., 0.],\n",
              "        [0., 0., 1., ..., 0., 0., 0.]],\n",
              "\n",
              "       [[0., 0., 0., ..., 0., 0., 0.],\n",
              "        [0., 0., 0., ..., 0., 0., 0.],\n",
              "        [0., 0., 0., ..., 0., 0., 0.],\n",
              "        ...,\n",
              "        [0., 0., 1., ..., 0., 0., 0.],\n",
              "        [0., 0., 1., ..., 0., 0., 0.],\n",
              "        [0., 0., 1., ..., 0., 0., 0.]],\n",
              "\n",
              "       [[0., 0., 0., ..., 0., 0., 0.],\n",
              "        [0., 0., 0., ..., 0., 0., 0.],\n",
              "        [0., 0., 0., ..., 0., 0., 0.],\n",
              "        ...,\n",
              "        [0., 0., 1., ..., 0., 0., 0.],\n",
              "        [0., 0., 1., ..., 0., 0., 0.],\n",
              "        [0., 0., 1., ..., 0., 0., 0.]],\n",
              "\n",
              "       ...,\n",
              "\n",
              "       [[0., 0., 0., ..., 0., 0., 0.],\n",
              "        [0., 0., 0., ..., 0., 0., 0.],\n",
              "        [0., 0., 0., ..., 0., 0., 0.],\n",
              "        ...,\n",
              "        [0., 0., 1., ..., 0., 0., 0.],\n",
              "        [0., 0., 1., ..., 0., 0., 0.],\n",
              "        [0., 0., 1., ..., 0., 0., 0.]],\n",
              "\n",
              "       [[0., 0., 0., ..., 0., 0., 0.],\n",
              "        [0., 0., 0., ..., 0., 0., 0.],\n",
              "        [0., 0., 0., ..., 0., 0., 0.],\n",
              "        ...,\n",
              "        [0., 0., 1., ..., 0., 0., 0.],\n",
              "        [0., 0., 1., ..., 0., 0., 0.],\n",
              "        [0., 0., 1., ..., 0., 0., 0.]],\n",
              "\n",
              "       [[0., 0., 0., ..., 0., 0., 0.],\n",
              "        [0., 0., 0., ..., 0., 0., 0.],\n",
              "        [0., 0., 0., ..., 0., 0., 0.],\n",
              "        ...,\n",
              "        [0., 0., 1., ..., 0., 0., 0.],\n",
              "        [0., 0., 1., ..., 0., 0., 0.],\n",
              "        [0., 0., 1., ..., 0., 0., 0.]]], dtype=float32)"
            ]
          },
          "metadata": {},
          "execution_count": 12
        }
      ]
    },
    {
      "cell_type": "markdown",
      "source": [
        "## Build the Sequence to Inference Model"
      ],
      "metadata": {
        "id": "Gu87S20xRctE"
      }
    },
    {
      "cell_type": "code",
      "source": [
        "## Begin Define the encoder layers\n",
        "# Define an input sequence\n",
        "encoder_inputs = keras.Input(shape=(None, num_encoder_tokens))\n",
        "\n",
        "# Define the LSTM which will return the hidden states\n",
        "encoder = keras.layers.LSTM(latent_dim, return_state=True)\n",
        "\n",
        "# Apply LSTM and return the outputs and hidden states\n",
        "encoder_outputs, state_h, state_c = encoder(encoder_inputs)\n",
        "\n",
        "# Discard the outputs and only keep the states.\n",
        "encoder_states = [state_h, state_c]\n",
        "## End Define the encoder layers\n",
        "\n",
        "\n",
        "## Begin Define the decoder layers\n",
        "# Define the decoder inputs\n",
        "decoder_inputs = keras.Input(shape=(None, num_decoder_tokens))\n",
        "decoder_lstm = keras.layers.LSTM(latent_dim, return_sequences=True, return_state=True)\n",
        "\n",
        "# Set up the decoder, using `encoder_states` as initial state.\n",
        "# Kee the outputs and discard the hidden states\n",
        "decoder_outputs, _, _ = decoder_lstm(decoder_inputs, initial_state=encoder_states)\n",
        "\n",
        "# Forecast he decoder outputs using a classifier based on the decoder outputs\n",
        "decoder_dense = keras.layers.Dense(num_decoder_tokens, activation=\"softmax\")\n",
        "decoder_outputs = decoder_dense(decoder_outputs)\n",
        "\n",
        "## End Define the decoder layers\n",
        "# Define the model that will turn\n",
        "# `encoder_input_data` & `decoder_input_data` into `decoder_target_data`\n",
        "model = keras.Model([encoder_inputs, decoder_inputs], decoder_outputs)"
      ],
      "metadata": {
        "id": "bpgomOemPNiB"
      },
      "execution_count": 13,
      "outputs": []
    },
    {
      "cell_type": "markdown",
      "source": [
        "## Train the Model"
      ],
      "metadata": {
        "id": "Ov4_2jTMR_jA"
      }
    },
    {
      "cell_type": "code",
      "source": [
        "model.compile(\n",
        "    optimizer=\"rmsprop\", loss=\"categorical_crossentropy\", metrics=[\"accuracy\"]\n",
        ")"
      ],
      "metadata": {
        "id": "S-ExiVq_R57P"
      },
      "execution_count": 14,
      "outputs": []
    },
    {
      "cell_type": "code",
      "source": [
        "%%time\n",
        "from tensorflow.keras.callbacks import EarlyStopping\n",
        "# Setup early stopping criteria\n",
        "early_stopping = EarlyStopping(\n",
        "    monitor='val_accuracy',\n",
        "    patience=5,\n",
        "    min_delta=0.001,\n",
        "    mode='max'\n",
        ")\n",
        "history = model.fit(\n",
        "    [encoder_input_data, decoder_input_data],\n",
        "    decoder_target_data,\n",
        "    batch_size=batch_size,\n",
        "    epochs=epochs,\n",
        "    validation_split=0.2,\n",
        "    callbacks=[early_stopping],\n",
        ")\n",
        "# Save model\n",
        "model.save(\"s2s\")"
      ],
      "metadata": {
        "colab": {
          "base_uri": "https://localhost:8080/"
        },
        "id": "guWhF2uESHs5",
        "outputId": "5691679e-d084-4b18-f6a7-c646f70951e2"
      },
      "execution_count": 15,
      "outputs": [
        {
          "output_type": "stream",
          "name": "stdout",
          "text": [
            "Epoch 1/100\n",
            "125/125 [==============================] - 45s 334ms/step - loss: 1.5863 - accuracy: 0.6360 - val_loss: 1.4853 - val_accuracy: 0.6049\n",
            "Epoch 2/100\n",
            "125/125 [==============================] - 41s 326ms/step - loss: 1.2192 - accuracy: 0.6653 - val_loss: 1.2717 - val_accuracy: 0.6410\n",
            "Epoch 3/100\n",
            "125/125 [==============================] - 41s 328ms/step - loss: 1.0381 - accuracy: 0.7185 - val_loss: 1.0463 - val_accuracy: 0.7154\n",
            "Epoch 4/100\n",
            "125/125 [==============================] - 40s 317ms/step - loss: 0.9021 - accuracy: 0.7514 - val_loss: 0.9482 - val_accuracy: 0.7344\n",
            "Epoch 5/100\n",
            "125/125 [==============================] - 43s 343ms/step - loss: 0.8174 - accuracy: 0.7703 - val_loss: 0.8937 - val_accuracy: 0.7494\n",
            "Epoch 6/100\n",
            "125/125 [==============================] - 42s 335ms/step - loss: 0.7667 - accuracy: 0.7823 - val_loss: 0.8662 - val_accuracy: 0.7588\n",
            "Epoch 7/100\n",
            "125/125 [==============================] - 41s 328ms/step - loss: 0.7300 - accuracy: 0.7901 - val_loss: 0.8176 - val_accuracy: 0.7726\n",
            "Epoch 8/100\n",
            "125/125 [==============================] - 41s 328ms/step - loss: 0.7013 - accuracy: 0.7978 - val_loss: 0.8021 - val_accuracy: 0.7700\n",
            "Epoch 9/100\n",
            "125/125 [==============================] - 40s 319ms/step - loss: 0.6755 - accuracy: 0.8052 - val_loss: 0.7819 - val_accuracy: 0.7770\n",
            "Epoch 10/100\n",
            "125/125 [==============================] - 43s 343ms/step - loss: 0.6524 - accuracy: 0.8110 - val_loss: 0.7512 - val_accuracy: 0.7854\n",
            "Epoch 11/100\n",
            "125/125 [==============================] - 43s 347ms/step - loss: 0.6326 - accuracy: 0.8166 - val_loss: 0.7302 - val_accuracy: 0.7908\n",
            "Epoch 12/100\n",
            "125/125 [==============================] - 42s 334ms/step - loss: 0.6157 - accuracy: 0.8215 - val_loss: 0.7321 - val_accuracy: 0.7902\n",
            "Epoch 13/100\n",
            "125/125 [==============================] - 41s 327ms/step - loss: 0.5998 - accuracy: 0.8267 - val_loss: 0.7039 - val_accuracy: 0.7998\n",
            "Epoch 14/100\n",
            "125/125 [==============================] - 41s 328ms/step - loss: 0.5867 - accuracy: 0.8301 - val_loss: 0.7010 - val_accuracy: 0.8007\n",
            "Epoch 15/100\n",
            "125/125 [==============================] - 42s 337ms/step - loss: 0.5738 - accuracy: 0.8335 - val_loss: 0.6875 - val_accuracy: 0.8042\n",
            "Epoch 16/100\n",
            "125/125 [==============================] - 42s 339ms/step - loss: 0.5627 - accuracy: 0.8370 - val_loss: 0.6817 - val_accuracy: 0.8053\n",
            "Epoch 17/100\n",
            "125/125 [==============================] - 43s 343ms/step - loss: 0.5515 - accuracy: 0.8402 - val_loss: 0.6713 - val_accuracy: 0.8071\n",
            "Epoch 18/100\n",
            "125/125 [==============================] - 43s 345ms/step - loss: 0.5402 - accuracy: 0.8435 - val_loss: 0.6589 - val_accuracy: 0.8120\n",
            "Epoch 19/100\n",
            "125/125 [==============================] - 42s 334ms/step - loss: 0.5362 - accuracy: 0.8456 - val_loss: 0.6503 - val_accuracy: 0.8138\n",
            "Epoch 20/100\n",
            "125/125 [==============================] - 41s 327ms/step - loss: 0.5231 - accuracy: 0.8481 - val_loss: 0.6532 - val_accuracy: 0.8126\n",
            "Epoch 21/100\n",
            "125/125 [==============================] - 39s 312ms/step - loss: 0.5141 - accuracy: 0.8503 - val_loss: 0.6410 - val_accuracy: 0.8180\n",
            "Epoch 22/100\n",
            "125/125 [==============================] - 43s 344ms/step - loss: 0.5059 - accuracy: 0.8530 - val_loss: 0.6380 - val_accuracy: 0.8179\n",
            "Epoch 23/100\n",
            "125/125 [==============================] - 41s 326ms/step - loss: 0.4983 - accuracy: 0.8553 - val_loss: 0.6312 - val_accuracy: 0.8197\n",
            "Epoch 24/100\n",
            "125/125 [==============================] - 41s 328ms/step - loss: 0.4903 - accuracy: 0.8573 - val_loss: 0.6332 - val_accuracy: 0.8191\n",
            "Epoch 25/100\n",
            "125/125 [==============================] - 39s 311ms/step - loss: 0.4827 - accuracy: 0.8596 - val_loss: 0.6241 - val_accuracy: 0.8216\n",
            "Epoch 26/100\n",
            "125/125 [==============================] - 41s 326ms/step - loss: 0.4755 - accuracy: 0.8613 - val_loss: 0.6172 - val_accuracy: 0.8239\n",
            "Epoch 27/100\n",
            "125/125 [==============================] - 42s 338ms/step - loss: 0.4689 - accuracy: 0.8636 - val_loss: 0.6177 - val_accuracy: 0.8242\n",
            "Epoch 28/100\n",
            "125/125 [==============================] - 41s 325ms/step - loss: 0.4613 - accuracy: 0.8655 - val_loss: 0.6082 - val_accuracy: 0.8269\n",
            "Epoch 29/100\n",
            "125/125 [==============================] - 41s 329ms/step - loss: 0.4548 - accuracy: 0.8678 - val_loss: 0.6083 - val_accuracy: 0.8263\n",
            "Epoch 30/100\n",
            "125/125 [==============================] - 42s 337ms/step - loss: 0.4484 - accuracy: 0.8691 - val_loss: 0.5992 - val_accuracy: 0.8290\n",
            "Epoch 31/100\n",
            "125/125 [==============================] - 41s 327ms/step - loss: 0.4422 - accuracy: 0.8708 - val_loss: 0.6002 - val_accuracy: 0.8282\n",
            "Epoch 32/100\n",
            "125/125 [==============================] - 41s 327ms/step - loss: 0.4360 - accuracy: 0.8728 - val_loss: 0.5980 - val_accuracy: 0.8295\n",
            "Epoch 33/100\n",
            "125/125 [==============================] - 39s 316ms/step - loss: 0.4295 - accuracy: 0.8749 - val_loss: 0.5924 - val_accuracy: 0.8316\n",
            "Epoch 34/100\n",
            "125/125 [==============================] - 41s 325ms/step - loss: 0.4236 - accuracy: 0.8764 - val_loss: 0.5938 - val_accuracy: 0.8318\n",
            "Epoch 35/100\n",
            "125/125 [==============================] - 43s 346ms/step - loss: 0.4180 - accuracy: 0.8781 - val_loss: 0.5919 - val_accuracy: 0.8331\n",
            "Epoch 36/100\n",
            "125/125 [==============================] - 43s 341ms/step - loss: 0.4123 - accuracy: 0.8800 - val_loss: 0.5897 - val_accuracy: 0.8335\n",
            "Epoch 37/100\n",
            "125/125 [==============================] - 40s 321ms/step - loss: 0.4070 - accuracy: 0.8810 - val_loss: 0.5866 - val_accuracy: 0.8342\n",
            "Epoch 38/100\n",
            "125/125 [==============================] - 41s 328ms/step - loss: 0.4014 - accuracy: 0.8829 - val_loss: 0.5833 - val_accuracy: 0.8350\n",
            "Epoch 39/100\n",
            "125/125 [==============================] - 40s 319ms/step - loss: 0.3954 - accuracy: 0.8846 - val_loss: 0.5824 - val_accuracy: 0.8363\n",
            "Epoch 40/100\n",
            "125/125 [==============================] - 42s 339ms/step - loss: 0.3903 - accuracy: 0.8861 - val_loss: 0.5824 - val_accuracy: 0.8367\n",
            "Epoch 41/100\n",
            "125/125 [==============================] - 41s 326ms/step - loss: 0.3851 - accuracy: 0.8878 - val_loss: 0.5795 - val_accuracy: 0.8373\n",
            "Epoch 42/100\n",
            "125/125 [==============================] - 39s 312ms/step - loss: 0.3794 - accuracy: 0.8891 - val_loss: 0.5843 - val_accuracy: 0.8370\n",
            "Epoch 43/100\n",
            "125/125 [==============================] - 43s 342ms/step - loss: 0.3747 - accuracy: 0.8909 - val_loss: 0.5809 - val_accuracy: 0.8375\n",
            "Epoch 44/100\n",
            "125/125 [==============================] - 41s 325ms/step - loss: 0.3699 - accuracy: 0.8921 - val_loss: 0.5788 - val_accuracy: 0.8386\n",
            "Epoch 45/100\n",
            "125/125 [==============================] - 41s 329ms/step - loss: 0.3647 - accuracy: 0.8936 - val_loss: 0.5766 - val_accuracy: 0.8400\n",
            "Epoch 46/100\n",
            "125/125 [==============================] - 41s 327ms/step - loss: 0.3603 - accuracy: 0.8948 - val_loss: 0.5785 - val_accuracy: 0.8385\n",
            "Epoch 47/100\n",
            "125/125 [==============================] - 42s 331ms/step - loss: 0.3549 - accuracy: 0.8965 - val_loss: 0.5778 - val_accuracy: 0.8393\n",
            "Epoch 48/100\n",
            "125/125 [==============================] - 41s 325ms/step - loss: 0.3507 - accuracy: 0.8982 - val_loss: 0.5771 - val_accuracy: 0.8402\n",
            "Epoch 49/100\n",
            "125/125 [==============================] - 43s 343ms/step - loss: 0.3457 - accuracy: 0.8991 - val_loss: 0.5743 - val_accuracy: 0.8403\n",
            "Epoch 50/100\n",
            "125/125 [==============================] - 41s 327ms/step - loss: 0.3415 - accuracy: 0.9007 - val_loss: 0.5809 - val_accuracy: 0.8406\n",
            "CPU times: user 48min 39s, sys: 1min 19s, total: 49min 59s\n",
            "Wall time: 35min 33s\n"
          ]
        }
      ]
    },
    {
      "cell_type": "markdown",
      "source": [
        "## Evaluate & Fit the Model"
      ],
      "metadata": {
        "id": "QLWLNjv1Uh_0"
      }
    },
    {
      "cell_type": "code",
      "source": [
        "import seaborn as sns\n",
        "import pandas as pd\n",
        "import matplotlib.pyplot as plt\n",
        "\n",
        "train_history = pd.DataFrame(history.history)\n",
        "train_history['epoch'] = history.epoch\n",
        "# Plot train loss\n",
        "sns.lineplot(x='epoch', y ='loss', data =train_history)\n",
        "\n",
        "# Plot validation loss\n",
        "sns.lineplot(x='epoch', y ='val_loss', data =train_history)\n",
        "\n",
        "# Add legends\n",
        "plt.legend(labels=['train_loss', 'val_loss'])"
      ],
      "metadata": {
        "colab": {
          "base_uri": "https://localhost:8080/",
          "height": 466
        },
        "id": "4Wp-Hx5KSRkI",
        "outputId": "7987e219-a1a9-4fa0-fb13-4031dba96710"
      },
      "execution_count": 16,
      "outputs": [
        {
          "output_type": "execute_result",
          "data": {
            "text/plain": [
              "<matplotlib.legend.Legend at 0x7a779264b3a0>"
            ]
          },
          "metadata": {},
          "execution_count": 16
        },
        {
          "output_type": "display_data",
          "data": {
            "text/plain": [
              "<Figure size 640x480 with 1 Axes>"
            ],
            "image/png": "[encoded data removed]"
          },
          "metadata": {}
        }
      ]
    },
    {
      "cell_type": "code",
      "source": [
        "sns.lineplot(x='epoch', y ='accuracy', data =train_history)\n",
        "\n",
        "# Plot validation loss\n",
        "sns.lineplot(x='epoch', y ='val_accuracy', data =train_history)\n",
        "\n",
        "# Add legends\n",
        "plt.legend(labels=['train_accuracy', 'val_accuracy'])"
      ],
      "metadata": {
        "colab": {
          "base_uri": "https://localhost:8080/",
          "height": 466
        },
        "id": "Unw9PmBeWkw_",
        "outputId": "9fc94d0e-318e-4853-a6e6-1813a823f0ed"
      },
      "execution_count": 17,
      "outputs": [
        {
          "output_type": "execute_result",
          "data": {
            "text/plain": [
              "<matplotlib.legend.Legend at 0x7a7792669ba0>"
            ]
          },
          "metadata": {},
          "execution_count": 17
        },
        {
          "output_type": "display_data",
          "data": {
            "text/plain": [
              "<Figure size 640x480 with 1 Axes>"
            ],
            "image/png": "[encoded data removed]"
          },
          "metadata": {}
        }
      ]
    },
    {
      "cell_type": "markdown",
      "source": [
        "## Run the Inference"
      ],
      "metadata": {
        "id": "ms_ZRlpQXvV1"
      }
    },
    {
      "cell_type": "code",
      "source": [
        "model.summary()"
      ],
      "metadata": {
        "colab": {
          "base_uri": "https://localhost:8080/"
        },
        "id": "GCcyzpevXzTO",
        "outputId": "378b3ead-1109-46bf-bc75-728f934f3142"
      },
      "execution_count": 18,
      "outputs": [
        {
          "output_type": "stream",
          "name": "stdout",
          "text": [
            "Model: \"model\"\n",
            "__________________________________________________________________________________________________\n",
            " Layer (type)                Output Shape                 Param #   Connected to                  \n",
            "==================================================================================================\n",
            " input_1 (InputLayer)        [(None, None, 71)]           0         []                            \n",
            "                                                                                                  \n",
            " input_2 (InputLayer)        [(None, None, 85)]           0         []                            \n",
            "                                                                                                  \n",
            " lstm (LSTM)                 [(None, 256),                335872    ['input_1[0][0]']             \n",
            "                              (None, 256),                                                        \n",
            "                              (None, 256)]                                                        \n",
            "                                                                                                  \n",
            " lstm_1 (LSTM)               [(None, None, 256),          350208    ['input_2[0][0]',             \n",
            "                              (None, 256),                           'lstm[0][1]',                \n",
            "                              (None, 256)]                           'lstm[0][2]']                \n",
            "                                                                                                  \n",
            " dense (Dense)               (None, None, 85)             21845     ['lstm_1[0][0]']              \n",
            "                                                                                                  \n",
            "==================================================================================================\n",
            "Total params: 707925 (2.70 MB)\n",
            "Trainable params: 707925 (2.70 MB)\n",
            "Non-trainable params: 0 (0.00 Byte)\n",
            "__________________________________________________________________________________________________\n"
          ]
        }
      ]
    },
    {
      "cell_type": "code",
      "source": [
        "tf.keras.utils.plot_model(model, show_shapes=True)"
      ],
      "metadata": {
        "colab": {
          "base_uri": "https://localhost:8080/",
          "height": 422
        },
        "id": "u__DMB6pX1M_",
        "outputId": "d67df042-be1b-47d8-a807-3a1f50a2ec7a"
      },
      "execution_count": 19,
      "outputs": [
        {
          "output_type": "execute_result",
          "data": {
            "image/png": "[encoded data removed]",
            "text/plain": [
              "<IPython.core.display.Image object>"
            ]
          },
          "metadata": {},
          "execution_count": 19
        }
      ]
    },
    {
      "cell_type": "code",
      "source": [
        "model.layers"
      ],
      "metadata": {
        "colab": {
          "base_uri": "https://localhost:8080/"
        },
        "id": "cHeeV208X65I",
        "outputId": "810858f2-9754-405e-de97-a1f422264387"
      },
      "execution_count": 20,
      "outputs": [
        {
          "output_type": "execute_result",
          "data": {
            "text/plain": [
              "[<keras.src.engine.input_layer.InputLayer at 0x7a784ca36a40>,\n",
              " <keras.src.engine.input_layer.InputLayer at 0x7a77a5454100>,\n",
              " <keras.src.layers.rnn.lstm.LSTM at 0x7a77ba997460>,\n",
              " <keras.src.layers.rnn.lstm.LSTM at 0x7a77a5455b40>,\n",
              " <keras.src.layers.core.dense.Dense at 0x7a77a5455bd0>]"
            ]
          },
          "metadata": {},
          "execution_count": 20
        }
      ]
    },
    {
      "cell_type": "code",
      "source": [
        "model.input"
      ],
      "metadata": {
        "colab": {
          "base_uri": "https://localhost:8080/"
        },
        "id": "u7G9fzcJX-mo",
        "outputId": "91b96bf8-ea12-4a2c-d168-904c54aac03b"
      },
      "execution_count": 21,
      "outputs": [
        {
          "output_type": "execute_result",
          "data": {
            "text/plain": [
              "[<KerasTensor: shape=(None, None, 71) dtype=float32 (created by layer 'input_1')>,\n",
              " <KerasTensor: shape=(None, None, 85) dtype=float32 (created by layer 'input_2')>]"
            ]
          },
          "metadata": {},
          "execution_count": 21
        }
      ]
    }
  ]
}